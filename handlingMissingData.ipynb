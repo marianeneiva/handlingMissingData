{
  "nbformat": 4,
  "nbformat_minor": 0,
  "metadata": {
    "colab": {
      "name": "handlingMissingData.ipynb",
      "provenance": [],
      "authorship_tag": "ABX9TyND7I3Uo8gvNr7AAaR2VQW2",
      "include_colab_link": true
    },
    "kernelspec": {
      "name": "python3",
      "display_name": "Python 3"
    },
    "language_info": {
      "name": "python"
    }
  },
  "cells": [
    {
      "cell_type": "markdown",
      "metadata": {
        "id": "view-in-github",
        "colab_type": "text"
      },
      "source": [
        "<a href=\"https://colab.research.google.com/github/marianeneiva/handlingMissingData/blob/main/handlingMissingData.ipynb\" target=\"_parent\"><img src=\"https://colab.research.google.com/assets/colab-badge.svg\" alt=\"Open In Colab\"/></a>"
      ]
    },
    {
      "cell_type": "markdown",
      "metadata": {
        "id": "kSg1t6diyCJe"
      },
      "source": [
        "#5 ways to handle missing data with Pandas\n",
        "\n",
        "Null data is often find in datasets due to the lack of response, errors in data collection, among other reasons. \n",
        "\n",
        "Althought the presence of non present data (*lol*) is commom, it should be manage to avoid misleading results. Therefore, this CODE highlights four ways you can handle the nulls.\n"
      ]
    },
    {
      "cell_type": "markdown",
      "metadata": {
        "id": "_vJpxbXSL8Wr"
      },
      "source": [
        "#Downloading data\n",
        "\n",
        "You can do it manually: https://www.kaggle.com/dansbecker/melbourne-housing-snapshot/home\n"
      ]
    },
    {
      "cell_type": "code",
      "metadata": {
        "colab": {
          "base_uri": "https://localhost:8080/"
        },
        "id": "XMu-LucIGXVE",
        "outputId": "1200b373-1ade-4d40-e97d-78e7d58f1558"
      },
      "source": [
        "from google.colab import drive\n",
        "drive.mount('/content/gdrive')\n",
        "\n",
        "import os\n",
        "os.environ['KAGGLE_CONFIG_DIR'] = \"/content/gdrive/My Drive/portfolio_dataScience\"\n",
        "\n",
        "#changing the working directory\n",
        "%cd /content/gdrive/My Drive/portfolio_dataScience\n",
        "#Check the present working directory using pwd command\n",
        "\n",
        "!kaggle datasets download -d dansbecker/melbourne-housing-snapshot\n",
        "!ls\n",
        "\n",
        "#unzipping the zip files and deleting the zip files\n",
        "!unzip \\*.zip  && rm *.zip"
      ],
      "execution_count": 18,
      "outputs": [
        {
          "output_type": "stream",
          "text": [
            "Drive already mounted at /content/gdrive; to attempt to forcibly remount, call drive.mount(\"/content/gdrive\", force_remount=True).\n",
            "/content/gdrive/My Drive/portfolio_dataScience\n",
            "Downloading melbourne-housing-snapshot.zip to /content/gdrive/My Drive/portfolio_dataScience\n",
            "  0% 0.00/451k [00:00<?, ?B/s]\n",
            "100% 451k/451k [00:00<00:00, 27.6MB/s]\n",
            "kaggle.json  melb_data.csv  melbourne-housing-snapshot.zip\n",
            "Archive:  melbourne-housing-snapshot.zip\n",
            "replace melb_data.csv? [y]es, [n]o, [A]ll, [N]one, [r]ename: "
          ],
          "name": "stdout"
        }
      ]
    },
    {
      "cell_type": "markdown",
      "metadata": {
        "id": "y7CQOBqVMKGL"
      },
      "source": [
        "#Importing data with pandas"
      ]
    },
    {
      "cell_type": "code",
      "metadata": {
        "colab": {
          "base_uri": "https://localhost:8080/",
          "height": 339
        },
        "id": "B8KRQzPfHyFO",
        "outputId": "c8ed611c-3f61-48c5-8bc8-d2c0c44f1c5f"
      },
      "source": [
        "import pandas as pd \n",
        "\n",
        "data = pd.read_csv('melb_data.csv')\n",
        "\n",
        "#showing the data\n",
        "data.head()"
      ],
      "execution_count": 19,
      "outputs": [
        {
          "output_type": "execute_result",
          "data": {
            "text/html": [
              "<div>\n",
              "<style scoped>\n",
              "    .dataframe tbody tr th:only-of-type {\n",
              "        vertical-align: middle;\n",
              "    }\n",
              "\n",
              "    .dataframe tbody tr th {\n",
              "        vertical-align: top;\n",
              "    }\n",
              "\n",
              "    .dataframe thead th {\n",
              "        text-align: right;\n",
              "    }\n",
              "</style>\n",
              "<table border=\"1\" class=\"dataframe\">\n",
              "  <thead>\n",
              "    <tr style=\"text-align: right;\">\n",
              "      <th></th>\n",
              "      <th>Suburb</th>\n",
              "      <th>Address</th>\n",
              "      <th>Rooms</th>\n",
              "      <th>Type</th>\n",
              "      <th>Price</th>\n",
              "      <th>Method</th>\n",
              "      <th>SellerG</th>\n",
              "      <th>Date</th>\n",
              "      <th>Distance</th>\n",
              "      <th>Postcode</th>\n",
              "      <th>Bedroom2</th>\n",
              "      <th>Bathroom</th>\n",
              "      <th>Car</th>\n",
              "      <th>Landsize</th>\n",
              "      <th>BuildingArea</th>\n",
              "      <th>YearBuilt</th>\n",
              "      <th>CouncilArea</th>\n",
              "      <th>Lattitude</th>\n",
              "      <th>Longtitude</th>\n",
              "      <th>Regionname</th>\n",
              "      <th>Propertycount</th>\n",
              "    </tr>\n",
              "  </thead>\n",
              "  <tbody>\n",
              "    <tr>\n",
              "      <th>0</th>\n",
              "      <td>Abbotsford</td>\n",
              "      <td>85 Turner St</td>\n",
              "      <td>2</td>\n",
              "      <td>h</td>\n",
              "      <td>1480000.0</td>\n",
              "      <td>S</td>\n",
              "      <td>Biggin</td>\n",
              "      <td>3/12/2016</td>\n",
              "      <td>2.5</td>\n",
              "      <td>3067.0</td>\n",
              "      <td>2.0</td>\n",
              "      <td>1.0</td>\n",
              "      <td>1.0</td>\n",
              "      <td>202.0</td>\n",
              "      <td>NaN</td>\n",
              "      <td>NaN</td>\n",
              "      <td>Yarra</td>\n",
              "      <td>-37.7996</td>\n",
              "      <td>144.9984</td>\n",
              "      <td>Northern Metropolitan</td>\n",
              "      <td>4019.0</td>\n",
              "    </tr>\n",
              "    <tr>\n",
              "      <th>1</th>\n",
              "      <td>Abbotsford</td>\n",
              "      <td>25 Bloomburg St</td>\n",
              "      <td>2</td>\n",
              "      <td>h</td>\n",
              "      <td>1035000.0</td>\n",
              "      <td>S</td>\n",
              "      <td>Biggin</td>\n",
              "      <td>4/02/2016</td>\n",
              "      <td>2.5</td>\n",
              "      <td>3067.0</td>\n",
              "      <td>2.0</td>\n",
              "      <td>1.0</td>\n",
              "      <td>0.0</td>\n",
              "      <td>156.0</td>\n",
              "      <td>79.0</td>\n",
              "      <td>1900.0</td>\n",
              "      <td>Yarra</td>\n",
              "      <td>-37.8079</td>\n",
              "      <td>144.9934</td>\n",
              "      <td>Northern Metropolitan</td>\n",
              "      <td>4019.0</td>\n",
              "    </tr>\n",
              "    <tr>\n",
              "      <th>2</th>\n",
              "      <td>Abbotsford</td>\n",
              "      <td>5 Charles St</td>\n",
              "      <td>3</td>\n",
              "      <td>h</td>\n",
              "      <td>1465000.0</td>\n",
              "      <td>SP</td>\n",
              "      <td>Biggin</td>\n",
              "      <td>4/03/2017</td>\n",
              "      <td>2.5</td>\n",
              "      <td>3067.0</td>\n",
              "      <td>3.0</td>\n",
              "      <td>2.0</td>\n",
              "      <td>0.0</td>\n",
              "      <td>134.0</td>\n",
              "      <td>150.0</td>\n",
              "      <td>1900.0</td>\n",
              "      <td>Yarra</td>\n",
              "      <td>-37.8093</td>\n",
              "      <td>144.9944</td>\n",
              "      <td>Northern Metropolitan</td>\n",
              "      <td>4019.0</td>\n",
              "    </tr>\n",
              "    <tr>\n",
              "      <th>3</th>\n",
              "      <td>Abbotsford</td>\n",
              "      <td>40 Federation La</td>\n",
              "      <td>3</td>\n",
              "      <td>h</td>\n",
              "      <td>850000.0</td>\n",
              "      <td>PI</td>\n",
              "      <td>Biggin</td>\n",
              "      <td>4/03/2017</td>\n",
              "      <td>2.5</td>\n",
              "      <td>3067.0</td>\n",
              "      <td>3.0</td>\n",
              "      <td>2.0</td>\n",
              "      <td>1.0</td>\n",
              "      <td>94.0</td>\n",
              "      <td>NaN</td>\n",
              "      <td>NaN</td>\n",
              "      <td>Yarra</td>\n",
              "      <td>-37.7969</td>\n",
              "      <td>144.9969</td>\n",
              "      <td>Northern Metropolitan</td>\n",
              "      <td>4019.0</td>\n",
              "    </tr>\n",
              "    <tr>\n",
              "      <th>4</th>\n",
              "      <td>Abbotsford</td>\n",
              "      <td>55a Park St</td>\n",
              "      <td>4</td>\n",
              "      <td>h</td>\n",
              "      <td>1600000.0</td>\n",
              "      <td>VB</td>\n",
              "      <td>Nelson</td>\n",
              "      <td>4/06/2016</td>\n",
              "      <td>2.5</td>\n",
              "      <td>3067.0</td>\n",
              "      <td>3.0</td>\n",
              "      <td>1.0</td>\n",
              "      <td>2.0</td>\n",
              "      <td>120.0</td>\n",
              "      <td>142.0</td>\n",
              "      <td>2014.0</td>\n",
              "      <td>Yarra</td>\n",
              "      <td>-37.8072</td>\n",
              "      <td>144.9941</td>\n",
              "      <td>Northern Metropolitan</td>\n",
              "      <td>4019.0</td>\n",
              "    </tr>\n",
              "  </tbody>\n",
              "</table>\n",
              "</div>"
            ],
            "text/plain": [
              "       Suburb           Address  ...             Regionname Propertycount\n",
              "0  Abbotsford      85 Turner St  ...  Northern Metropolitan        4019.0\n",
              "1  Abbotsford   25 Bloomburg St  ...  Northern Metropolitan        4019.0\n",
              "2  Abbotsford      5 Charles St  ...  Northern Metropolitan        4019.0\n",
              "3  Abbotsford  40 Federation La  ...  Northern Metropolitan        4019.0\n",
              "4  Abbotsford       55a Park St  ...  Northern Metropolitan        4019.0\n",
              "\n",
              "[5 rows x 21 columns]"
            ]
          },
          "metadata": {
            "tags": []
          },
          "execution_count": 19
        }
      ]
    },
    {
      "cell_type": "markdown",
      "metadata": {
        "id": "qEw_iwxBMQwI"
      },
      "source": [
        "# DELETE ROWS WITH NULL VALUES\n",
        "\n",
        "If you have few instances that contains missing data and the deleting the rows is a possibility.\n",
        "\n",
        "You can do it following the code bellow:"
      ]
    },
    {
      "cell_type": "code",
      "metadata": {
        "colab": {
          "base_uri": "https://localhost:8080/"
        },
        "id": "clumpJSsIct-",
        "outputId": "bbb59efc-2d1c-48ea-c562-1af9032006e6"
      },
      "source": [
        "print('Number of rows of data: ',len(data))\n",
        "print('Number of nulls values:', data.isna().sum().sum())\n",
        "\n",
        "dataDeletedNullRows = data.dropna()\n",
        "print('Number of rows of data after deletion: ', len(dataDeletedNullRows), ' (', len(data) - len(dataDeletedNullRows), ' rows deleted)')\n",
        "print('Number of nulls values after deletion:', dataDeletedNullRows.isna().sum().sum())\n",
        "\n"
      ],
      "execution_count": 20,
      "outputs": [
        {
          "output_type": "stream",
          "text": [
            "Number of rows of data:  13580\n",
            "Number of nulls values: 13256\n",
            "Number of rows of data after deletion:  6196  ( 7384  rows deleted)\n",
            "Number of nulls values after deletion: 0\n"
          ],
          "name": "stdout"
        }
      ]
    },
    {
      "cell_type": "markdown",
      "metadata": {
        "id": "7T7rYk6YVbKx"
      },
      "source": [
        "#DELETE COLUMNS WITH NULL VALUES\n",
        "\n",
        "Delete columns if at least 20% of the values are null"
      ]
    },
    {
      "cell_type": "code",
      "metadata": {
        "colab": {
          "base_uri": "https://localhost:8080/"
        },
        "id": "72R6Pb9zVsGu",
        "outputId": "9d7d5fa6-150a-402a-c777-83da37632dc4"
      },
      "source": [
        "print('The percentage of null values in each column:\\n')\n",
        "print(data.isnull().mean()*100)\n",
        "\n",
        "threshold = len(data) * .80 \n",
        "dataDeletedNullColumns = data.dropna(thresh=threshold, axis=1)\n",
        "\n",
        "deleted_columns = list(set(data.columns) - set(dataDeletedNullColumns.columns))\n",
        "print('\\nDeleted columns: ' + str(deleted_columns))"
      ],
      "execution_count": 47,
      "outputs": [
        {
          "output_type": "stream",
          "text": [
            "The percentage of null values in each column:\n",
            "\n",
            "Suburb            0.000000\n",
            "Address           0.000000\n",
            "Rooms             0.000000\n",
            "Type              0.000000\n",
            "Price             0.000000\n",
            "Method            0.000000\n",
            "SellerG           0.000000\n",
            "Date              0.000000\n",
            "Distance          0.000000\n",
            "Postcode          0.000000\n",
            "Bedroom2          0.000000\n",
            "Bathroom          0.000000\n",
            "Car               0.456554\n",
            "Landsize          0.000000\n",
            "BuildingArea     47.496318\n",
            "YearBuilt        39.580265\n",
            "CouncilArea      10.081001\n",
            "Lattitude         0.000000\n",
            "Longtitude        0.000000\n",
            "Regionname        0.000000\n",
            "Propertycount     0.000000\n",
            "dtype: float64\n",
            "\n",
            "Deleted columns: ['BuildingArea', 'YearBuilt']\n"
          ],
          "name": "stdout"
        }
      ]
    },
    {
      "cell_type": "markdown",
      "metadata": {
        "id": "aKY4N0ghncIC"
      },
      "source": [
        "#REPLACE VALUES BY MEAN/MEDIAN...\n",
        "\n"
      ]
    },
    {
      "cell_type": "code",
      "metadata": {
        "colab": {
          "base_uri": "https://localhost:8080/",
          "height": 997
        },
        "id": "33qc15o_nf6p",
        "outputId": "1583f158-46a4-41f2-e1fc-d9ab5dc8ce4b"
      },
      "source": [
        "import seaborn as sns\n",
        "dataNull = data[data.columns[data.isnull().mean() > 0]]\n",
        "\n",
        "dataMean = dataNull.fillna(dataNull.mean())\n",
        "print(dataMean)\n",
        "ax = dataMean.plot.hist()\n",
        "\n",
        "dataMedian = dataNull.fillna(dataNull.median())\n",
        "print(dataMedian)\n",
        "bx = dataMedian.plot.hist()\n",
        "\n"
      ],
      "execution_count": 62,
      "outputs": [
        {
          "output_type": "stream",
          "text": [
            "       Car  BuildingArea    YearBuilt CouncilArea\n",
            "0      1.0     151.96765  1964.684217       Yarra\n",
            "1      0.0      79.00000  1900.000000       Yarra\n",
            "2      0.0     150.00000  1900.000000       Yarra\n",
            "3      1.0     151.96765  1964.684217       Yarra\n",
            "4      2.0     142.00000  2014.000000       Yarra\n",
            "...    ...           ...          ...         ...\n",
            "13575  2.0     151.96765  1981.000000         NaN\n",
            "13576  2.0     133.00000  1995.000000         NaN\n",
            "13577  4.0     151.96765  1997.000000         NaN\n",
            "13578  5.0     157.00000  1920.000000         NaN\n",
            "13579  1.0     112.00000  1920.000000         NaN\n",
            "\n",
            "[13580 rows x 4 columns]\n",
            "       Car  BuildingArea  YearBuilt CouncilArea\n",
            "0      1.0         126.0     1970.0       Yarra\n",
            "1      0.0          79.0     1900.0       Yarra\n",
            "2      0.0         150.0     1900.0       Yarra\n",
            "3      1.0         126.0     1970.0       Yarra\n",
            "4      2.0         142.0     2014.0       Yarra\n",
            "...    ...           ...        ...         ...\n",
            "13575  2.0         126.0     1981.0         NaN\n",
            "13576  2.0         133.0     1995.0         NaN\n",
            "13577  4.0         126.0     1997.0         NaN\n",
            "13578  5.0         157.0     1920.0         NaN\n",
            "13579  1.0         112.0     1920.0         NaN\n",
            "\n",
            "[13580 rows x 4 columns]\n"
          ],
          "name": "stdout"
        },
        {
          "output_type": "display_data",
          "data": {
            "image/png": "[encoded data removed]",
            "text/plain": [
              "<Figure size 432x288 with 1 Axes>"
            ]
          },
          "metadata": {
            "tags": [],
            "needs_background": "light"
          }
        },
        {
          "output_type": "display_data",
          "data": {
            "image/png": "[encoded data removed]",
            "text/plain": [
              "<Figure size 432x288 with 1 Axes>"
            ]
          },
          "metadata": {
            "tags": [],
            "needs_background": "light"
          }
        }
      ]
    },
    {
      "cell_type": "markdown",
      "metadata": {
        "id": "qxdE6DS-qyRj"
      },
      "source": [
        "#CREATE A FAKE CATEGORY\n",
        "\n",
        "From the results above, you can see that column **CouncilArea** still have null values. This is why the atribute is not numeric. In this case, you can create a fake category to replace the blank values. \n",
        "\n",
        "The approach is too risky. You do not really solve the problem, you just replace one value (null) by another (UNKOWN). "
      ]
    },
    {
      "cell_type": "code",
      "metadata": {
        "colab": {
          "base_uri": "https://localhost:8080/"
        },
        "id": "uHs5cFmqrBo3",
        "outputId": "83f93ec3-9df5-4c91-92fe-939d95e08fbb"
      },
      "source": [
        "dataMedian['CouncilArea'] = dataMedian['CouncilArea'].fillna('UNKNOWN')\n",
        "print(dataMedian)"
      ],
      "execution_count": 63,
      "outputs": [
        {
          "output_type": "stream",
          "text": [
            "       Car  BuildingArea  YearBuilt CouncilArea\n",
            "0      1.0         126.0     1970.0       Yarra\n",
            "1      0.0          79.0     1900.0       Yarra\n",
            "2      0.0         150.0     1900.0       Yarra\n",
            "3      1.0         126.0     1970.0       Yarra\n",
            "4      2.0         142.0     2014.0       Yarra\n",
            "...    ...           ...        ...         ...\n",
            "13575  2.0         126.0     1981.0     UNKNOWN\n",
            "13576  2.0         133.0     1995.0     UNKNOWN\n",
            "13577  4.0         126.0     1997.0     UNKNOWN\n",
            "13578  5.0         157.0     1920.0     UNKNOWN\n",
            "13579  1.0         112.0     1920.0     UNKNOWN\n",
            "\n",
            "[13580 rows x 4 columns]\n"
          ],
          "name": "stdout"
        }
      ]
    },
    {
      "cell_type": "markdown",
      "metadata": {
        "id": "onIuFetAsd20"
      },
      "source": [
        ""
      ]
    },
    {
      "cell_type": "markdown",
      "metadata": {
        "id": "YivIesXHrZuy"
      },
      "source": [
        ""
      ]
    }
  ]
}